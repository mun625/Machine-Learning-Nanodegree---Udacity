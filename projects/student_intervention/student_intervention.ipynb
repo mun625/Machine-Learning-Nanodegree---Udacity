{
 "cells": [
  {
   "cell_type": "markdown",
   "metadata": {},
   "source": [
    "# Project 2: Supervised Learning\n",
    "### Building a Student Intervention System"
   ]
  },
  {
   "cell_type": "markdown",
   "metadata": {},
   "source": [
    "## 1. Classification vs Regression\n",
    "\n",
    "Your goal is to identify students who might need early intervention - which type of supervised machine learning problem is this, classification or regression? Why?"
   ]
  },
  {
   "cell_type": "markdown",
   "metadata": {},
   "source": [
    "## 2. Exploring the Data\n",
    "\n",
    "Let's go ahead and read in the student dataset first.\n",
    "\n",
    "_To execute a code cell, click inside it and press **Shift+Enter**._"
   ]
  },
  {
   "cell_type": "code",
   "execution_count": 39,
   "metadata": {
    "collapsed": false
   },
   "outputs": [],
   "source": [
    "# Import libraries\n",
    "import numpy as np\n",
    "import pandas as pd\n",
    "import matplotlib.pyplot as pl\n",
    "\n",
    "from sklearn import grid_search\n",
    "from sklearn import cross_validation\n",
    "from sklearn import metrics"
   ]
  },
  {
   "cell_type": "code",
   "execution_count": 40,
   "metadata": {
    "collapsed": false
   },
   "outputs": [
    {
     "name": "stdout",
     "output_type": "stream",
     "text": [
      "Student data read successfully!\n"
     ]
    }
   ],
   "source": [
    "# Read student data\n",
    "student_data = pd.read_csv(\"student-data.csv\")\n",
    "print \"Student data read successfully!\"\n",
    "# Note: The last column 'passed' is the target/label, all other are feature columns"
   ]
  },
  {
   "cell_type": "markdown",
   "metadata": {},
   "source": [
    "Now, can you find out the following facts about the dataset?\n",
    "- Total number of students\n",
    "- Number of students who passed\n",
    "- Number of students who failed\n",
    "- Graduation rate of the class (%)\n",
    "- Number of features\n",
    "\n",
    "_Use the code block below to compute these values. Instructions/steps are marked using **TODO**s._"
   ]
  },
  {
   "cell_type": "code",
   "execution_count": 41,
   "metadata": {
    "collapsed": false
   },
   "outputs": [
    {
     "name": "stdout",
     "output_type": "stream",
     "text": [
      "Total number of students: 395\n",
      "Number of students who passed: 265\n",
      "Number of students who failed: 130\n",
      "Number of features: 30\n",
      "Graduation rate of the class: 67.09%\n"
     ]
    }
   ],
   "source": [
    "# TODO: Compute desired values - replace each '?' with an appropriate expression/function call\n",
    "n_students = student_data.shape[0]\n",
    "n_features = student_data.shape[1]-1\n",
    "n_passed = (student_data.passed == 'yes').sum()\n",
    "n_failed = (student_data.passed == 'no').sum()\n",
    "grad_rate = 100*n_passed/float(n_students)\n",
    "print \"Total number of students: {}\".format(n_students)\n",
    "print \"Number of students who passed: {}\".format(n_passed)\n",
    "print \"Number of students who failed: {}\".format(n_failed)\n",
    "print \"Number of features: {}\".format(n_features)\n",
    "print \"Graduation rate of the class: {:.2f}%\".format(grad_rate)"
   ]
  },
  {
   "cell_type": "markdown",
   "metadata": {},
   "source": [
    "## 3. Preparing the Data\n",
    "In this section, we will prepare the data for modeling, training and testing.\n",
    "\n",
    "### Identify feature and target columns\n",
    "It is often the case that the data you obtain contains non-numeric features. This can be a problem, as most machine learning algorithms expect numeric data to perform computations with.\n",
    "\n",
    "Let's first separate our data into feature and target columns, and see if any features are non-numeric.<br/>\n",
    "**Note**: For this dataset, the last column (`'passed'`) is the target or label we are trying to predict."
   ]
  },
  {
   "cell_type": "code",
   "execution_count": 42,
   "metadata": {
    "collapsed": false
   },
   "outputs": [
    {
     "name": "stdout",
     "output_type": "stream",
     "text": [
      "Feature column(s):-\n",
      "['school', 'sex', 'age', 'address', 'famsize', 'Pstatus', 'Medu', 'Fedu', 'Mjob', 'Fjob', 'reason', 'guardian', 'traveltime', 'studytime', 'failures', 'schoolsup', 'famsup', 'paid', 'activities', 'nursery', 'higher', 'internet', 'romantic', 'famrel', 'freetime', 'goout', 'Dalc', 'Walc', 'health', 'absences']\n",
      "Target column: passed\n",
      "\n",
      "Feature values:-\n",
      "    school sex  age address famsize Pstatus  Medu  Fedu      Mjob     Fjob  \\\n",
      "170     GP   M   16       U     GT3       T     3     4     other    other   \n",
      "60      GP   F   16       R     GT3       T     4     4    health  teacher   \n",
      "88      GP   M   16       U     GT3       T     2     2  services    other   \n",
      "81      GP   M   15       U     GT3       T     2     3     other    other   \n",
      "300     GP   F   18       U     LE3       A     4     4    health    other   \n",
      "\n",
      "      ...    higher internet  romantic  famrel  freetime goout Dalc Walc  \\\n",
      "170   ...       yes      yes        no       3         4     5    2    4   \n",
      "60    ...       yes       no        no       2         4     4    2    3   \n",
      "88    ...       yes      yes        no       4         4     2    1    1   \n",
      "81    ...       yes      yes        no       5         3     2    1    2   \n",
      "300   ...       yes      yes       yes       4         2     4    1    1   \n",
      "\n",
      "    health absences  \n",
      "170      2        0  \n",
      "60       4        6  \n",
      "88       3       12  \n",
      "81       5        4  \n",
      "300      4       14  \n",
      "\n",
      "[5 rows x 30 columns]\n",
      "170     no\n",
      "60     yes\n",
      "88     yes\n",
      "81     yes\n",
      "300    yes\n",
      "Name: passed, dtype: object\n"
     ]
    }
   ],
   "source": [
    "# Shuffling to avoid bias selecting when split data into training and test sets\n",
    "student_data = student_data.iloc[np.random.permutation(len(student_data))]\n",
    "\n",
    "# Extract feature (X) and target (y) columns\n",
    "feature_cols = list(student_data.columns[:-1])  # all columns but last are features\n",
    "target_col = student_data.columns[-1]  # last column is the target/label\n",
    "print \"Feature column(s):-\\n{}\".format(feature_cols)\n",
    "print \"Target column: {}\".format(target_col)\n",
    "\n",
    "X_all = student_data[feature_cols]  # feature values for all students\n",
    "y_all = student_data[target_col]  # corresponding targets/labels\n",
    "print \"\\nFeature values:-\"\n",
    "print X_all.head()  # print the first 5 rows\n",
    "print y_all.head()"
   ]
  },
  {
   "cell_type": "markdown",
   "metadata": {},
   "source": [
    "### Preprocess feature columns\n",
    "\n",
    "As you can see, there are several non-numeric columns that need to be converted! Many of them are simply `yes`/`no`, e.g. `internet`. These can be reasonably converted into `1`/`0` (binary) values.\n",
    "\n",
    "Other columns, like `Mjob` and `Fjob`, have more than two values, and are known as _categorical variables_. The recommended way to handle such a column is to create as many columns as possible values (e.g. `Fjob_teacher`, `Fjob_other`, `Fjob_services`, etc.), and assign a `1` to one of them and `0` to all others.\n",
    "\n",
    "These generated columns are sometimes called _dummy variables_, and we will use the [`pandas.get_dummies()`](http://pandas.pydata.org/pandas-docs/stable/generated/pandas.get_dummies.html?highlight=get_dummies#pandas.get_dummies) function to perform this transformation."
   ]
  },
  {
   "cell_type": "code",
   "execution_count": 43,
   "metadata": {
    "collapsed": false
   },
   "outputs": [
    {
     "name": "stdout",
     "output_type": "stream",
     "text": [
      "Processed feature columns (48):-\n",
      "['school_GP', 'school_MS', 'sex_F', 'sex_M', 'age', 'address_R', 'address_U', 'famsize_GT3', 'famsize_LE3', 'Pstatus_A', 'Pstatus_T', 'Medu', 'Fedu', 'Mjob_at_home', 'Mjob_health', 'Mjob_other', 'Mjob_services', 'Mjob_teacher', 'Fjob_at_home', 'Fjob_health', 'Fjob_other', 'Fjob_services', 'Fjob_teacher', 'reason_course', 'reason_home', 'reason_other', 'reason_reputation', 'guardian_father', 'guardian_mother', 'guardian_other', 'traveltime', 'studytime', 'failures', 'schoolsup', 'famsup', 'paid', 'activities', 'nursery', 'higher', 'internet', 'romantic', 'famrel', 'freetime', 'goout', 'Dalc', 'Walc', 'health', 'absences']\n"
     ]
    }
   ],
   "source": [
    "# Preprocess feature columns\n",
    "def preprocess_features(X):\n",
    "    outX = pd.DataFrame(index=X.index)  # output dataframe, initially empty\n",
    "\n",
    "    # Check each column\n",
    "    for col, col_data in X.iteritems():\n",
    "        # If data type is non-numeric, try to replace all yes/no values with 1/0\n",
    "        if col_data.dtype == object:\n",
    "            col_data = col_data.replace(['yes', 'no'], [1, 0])\n",
    "        # Note: This should change the data type for yes/no columns to int\n",
    "\n",
    "        # If still non-numeric, convert to one or more dummy variables\n",
    "        if col_data.dtype == object:\n",
    "            col_data = pd.get_dummies(col_data, prefix=col)  # e.g. 'school' => 'school_GP', 'school_MS'\n",
    "\n",
    "        outX = outX.join(col_data)  # collect column(s) in output dataframe\n",
    "\n",
    "    return outX\n",
    "\n",
    "X_all = preprocess_features(X_all)\n",
    "print \"Processed feature columns ({}):-\\n{}\".format(len(X_all.columns), list(X_all.columns))"
   ]
  },
  {
   "cell_type": "markdown",
   "metadata": {},
   "source": [
    "### Split data into training and test sets\n",
    "\n",
    "So far, we have converted all _categorical_ features into numeric values. In this next step, we split the data (both features and corresponding labels) into training and test sets."
   ]
  },
  {
   "cell_type": "code",
   "execution_count": 44,
   "metadata": {
    "collapsed": false
   },
   "outputs": [
    {
     "name": "stdout",
     "output_type": "stream",
     "text": [
      "Training set: 300 samples\n",
      "Test set: 95 samples\n"
     ]
    }
   ],
   "source": [
    "# First, decide how many training vs test samples you want\n",
    "num_all = student_data.shape[0]  # same as len(student_data)\n",
    "num_train = 300  # about 75% of the data\n",
    "num_test = num_all - num_train\n",
    "\n",
    "# TODO: Then, select features (X) and corresponding labels (y) for the training and test sets\n",
    "# Note: Shuffle the data or randomly select samples to avoid any bias due to ordering in the dataset\n",
    "def split_data(X_all, y_all, num_all, num_train) :\n",
    "    X_train, X_test, y_train, y_test = cross_validation.train_test_split(X_all, y_all, test_size=95, random_state=42)\n",
    "    X_train = X_train[0:num_train]\n",
    "    y_train = y_train[0:num_train]\n",
    "    return [X_train, y_train, X_test, y_test]\n",
    "\n",
    "[X_train, y_train, X_test, y_test] = split_data(X_all, y_all, num_all, num_train)\n",
    "\n",
    "print \"Training set: {} samples\".format(X_train.shape[0])\n",
    "print \"Test set: {} samples\".format(X_test.shape[0])\n",
    "# Note: If you need a validation set, extract it from within training data"
   ]
  },
  {
   "cell_type": "markdown",
   "metadata": {},
   "source": [
    "## 4. Training and Evaluating Models\n",
    "Choose 3 supervised learning models that are available in scikit-learn, and appropriate for this problem. For each model:\n",
    "\n",
    "- What are the general applications of this model? What are its strengths and weaknesses?\n",
    "- Given what you know about the data so far, why did you choose this model to apply?\n",
    "- Fit this model to the training data, try to predict labels (for both training and test sets), and measure the F<sub>1</sub> score. Repeat this process with different training set sizes (100, 200, 300), keeping test set constant.\n",
    "\n",
    "Produce a table showing training time, prediction time, F<sub>1</sub> score on training set and F<sub>1</sub> score on test set, for each training set size.\n",
    "\n",
    "Note: You need to produce 3 such tables - one for each model."
   ]
  },
  {
   "cell_type": "code",
   "execution_count": 45,
   "metadata": {
    "collapsed": false
   },
   "outputs": [
    {
     "name": "stdout",
     "output_type": "stream",
     "text": [
      "Training KNeighborsClassifier...\n",
      "Done!\n",
      "Training time (secs): 0.001\n"
     ]
    }
   ],
   "source": [
    "# Train a model\n",
    "import time\n",
    "\n",
    "def train_classifier(clf, X_train, y_train):\n",
    "    print \"Training {}...\".format(clf.__class__.__name__)\n",
    "    start = time.time()\n",
    "    clf.fit(X_train, y_train)\n",
    "    end = time.time()\n",
    "    print \"Done!\\nTraining time (secs): {:.3f}\".format(end - start)\n",
    "\n",
    "# TODO: Choose a model, import it and instantiate an object\n",
    "from sklearn.neighbors import KNeighborsClassifier\n",
    "clf = KNeighborsClassifier(n_neighbors=5)\n",
    "\n",
    "# Fit model to training data\n",
    "train_classifier(clf, X_train, y_train)  # note: using entire training set here\n",
    "#print clf  # you can inspect the learned model by printing it"
   ]
  },
  {
   "cell_type": "code",
   "execution_count": 46,
   "metadata": {
    "collapsed": false
   },
   "outputs": [
    {
     "name": "stdout",
     "output_type": "stream",
     "text": [
      "Predicting labels using KNeighborsClassifier...\n",
      "Done!\n",
      "Prediction time (secs): 0.006\n",
      "F1 score for training set: 0.862385321101\n"
     ]
    }
   ],
   "source": [
    "# Predict on training set and compute F1 score\n",
    "from sklearn.metrics import f1_score\n",
    "\n",
    "def predict_labels(clf, features, target):\n",
    "    print \"Predicting labels using {}...\".format(clf.__class__.__name__)\n",
    "    start = time.time()\n",
    "    y_pred = clf.predict(features)\n",
    "    end = time.time()\n",
    "    print \"Done!\\nPrediction time (secs): {:.3f}\".format(end - start)\n",
    "    return f1_score(target.values, y_pred, pos_label='yes')\n",
    "\n",
    "train_f1_score = predict_labels(clf, X_train, y_train)\n",
    "print \"F1 score for training set: {}\".format(train_f1_score)"
   ]
  },
  {
   "cell_type": "code",
   "execution_count": 47,
   "metadata": {
    "collapsed": false
   },
   "outputs": [
    {
     "name": "stdout",
     "output_type": "stream",
     "text": [
      "Predicting labels using KNeighborsClassifier...\n",
      "Done!\n",
      "Prediction time (secs): 0.003\n",
      "F1 score for test set: 0.8\n"
     ]
    }
   ],
   "source": [
    "# Predict on test data\n",
    "print \"F1 score for test set: {}\".format(predict_labels(clf, X_test, y_test))"
   ]
  },
  {
   "cell_type": "markdown",
   "metadata": {},
   "source": [
    "### Finding Optimal Complexity (elbow method & GridSearchCV)\n",
    "\n",
    "We will plot the error with varying complexity (e.g. k value of KNN, or max_depth of decision tree)\n",
    "For visualizing"
   ]
  },
  {
   "cell_type": "code",
   "execution_count": 48,
   "metadata": {
    "collapsed": true
   },
   "outputs": [],
   "source": [
    "def performance_metric(y_train, y_pred) :\n",
    "    from sklearn import metrics\n",
    "    \n",
    "    return metrics.f1_score(y_train, y_pred, pos_label='yes')\n",
    "    "
   ]
  },
  {
   "cell_type": "code",
   "execution_count": 49,
   "metadata": {
    "collapsed": false
   },
   "outputs": [],
   "source": [
    "def model_complexity(clf, X_train, y_train, X_test, y_test, complexity):\n",
    "    train_score = np.zeros(len(complexity))\n",
    "    test_score = np.zeros(len(complexity))\n",
    "    \n",
    "    for i, d in enumerate(complexity):\n",
    "        if clf.__class__.__name__ == 'KNeighborsClassifier':\n",
    "            clf.n_neighbors = d        \n",
    "        if clf.__class__.__name__ == 'DecisionTreeClassifier':\n",
    "            clf.max_depth = d\n",
    "        if clf.__class__.__name__ == 'SVC':\n",
    "            clf.C = d\n",
    "        clf.fit(X_train, y_train)\n",
    "        \n",
    "        train_score[i] = performance_metric(y_train, clf.predict(X_train))\n",
    "        test_score[i] = performance_metric(y_test, clf.predict(X_test))\n",
    "        \n",
    "    print \"------------------------------------------\"\n",
    "    print train_score\n",
    "    print test_score\n",
    "        \n",
    "    # Plot the model complexity graph\n",
    "    #pl.figure(figsize=(7, 5))\n",
    "    #pl.title('Classifier Complexity Performance : comparing result with varying complexity')\n",
    "    #pl.plot(max_depth, test_err, lw=2, label = 'Testing Error')\n",
    "    #pl.plot(max_depth, train_err, lw=2, label = 'Training Error')\n",
    "    #pl.legend()\n",
    "    #pl.xlabel('Maximum Depth')\n",
    "    #pl.ylabel('Total Error')\n",
    "    \n",
    "    #pl.show()"
   ]
  },
  {
   "cell_type": "code",
   "execution_count": 50,
   "metadata": {
    "collapsed": false
   },
   "outputs": [
    {
     "name": "stdout",
     "output_type": "stream",
     "text": [
      "------------------------------------------\n",
      "[ 1.          0.84117647  0.88888889  0.84155844  0.86238532  0.8345679\n",
      "  0.84454756  0.83173077  0.83218391]\n",
      "[ 0.72727273  0.63157895  0.80555556  0.73282443  0.8         0.75\n",
      "  0.7972973   0.79432624  0.7755102 ]\n",
      "------------------------------------------\n",
      "Training set size: 100\n",
      "Training KNeighborsClassifier...\n",
      "Done!\n",
      "Training time (secs): 0.000\n",
      "Predicting labels using KNeighborsClassifier...\n",
      "Done!\n",
      "Prediction time (secs): 0.001\n",
      "F1 score for training set: 0.866666666667\n",
      "Predicting labels using KNeighborsClassifier...\n",
      "Done!\n",
      "Prediction time (secs): 0.001\n",
      "F1 score for test set: 0.808219178082\n",
      "------------------------------------------\n",
      "Training set size: 200\n",
      "Training KNeighborsClassifier...\n",
      "Done!\n",
      "Training time (secs): 0.001\n",
      "Predicting labels using KNeighborsClassifier...\n",
      "Done!\n",
      "Prediction time (secs): 0.003\n",
      "F1 score for training set: 0.825622775801\n",
      "Predicting labels using KNeighborsClassifier...\n",
      "Done!\n",
      "Prediction time (secs): 0.002\n",
      "F1 score for test set: 0.805555555556\n",
      "------------------------------------------\n",
      "Training set size: 300\n",
      "Training KNeighborsClassifier...\n",
      "Done!\n",
      "Training time (secs): 0.001\n",
      "Predicting labels using KNeighborsClassifier...\n",
      "Done!\n",
      "Prediction time (secs): 0.005\n",
      "F1 score for training set: 0.862385321101\n",
      "Predicting labels using KNeighborsClassifier...\n",
      "Done!\n",
      "Prediction time (secs): 0.002\n",
      "F1 score for test set: 0.8\n"
     ]
    }
   ],
   "source": [
    "# Train and predict using different training set sizes\n",
    "def train_predict(clf, X_train, y_train, X_test, y_test):\n",
    "    print \"------------------------------------------\"\n",
    "    print \"Training set size: {}\".format(len(X_train))\n",
    "    train_classifier(clf, X_train, y_train)\n",
    "    print \"F1 score for training set: {}\".format(predict_labels(clf, X_train, y_train))\n",
    "    print \"F1 score for test set: {}\".format(predict_labels(clf, X_test, y_test))\n",
    "\n",
    "# Train using different training size\n",
    "def train_for_different_size(clf, X_all, y_all, num_all, num_train):\n",
    "    for num in num_train:\n",
    "        [X_train, y_train, X_test, y_test] = split_data(X_all, y_all, num_all, num)\n",
    "        train_predict(clf, X_train, y_train, X_test, y_test)\n",
    "    \n",
    "# (plotting)Visualize the score with varying complexity\n",
    "clf = KNeighborsClassifier()\n",
    "k_value = np.arange(1,10)\n",
    "[X_train, y_train, X_test, y_test] = split_data(X_all, y_all, num_all, 300)\n",
    "model_complexity(clf, X_train, y_train, X_test, y_test, complexity=k_value)\n",
    "\n",
    "# Find the best complexity (using grid_search CV)\n",
    "############ skip grid_search this time #############\n",
    "#scoring_function = metrics.make_scorer(f1_score, pos_label='yes', greater_is_better = True)\n",
    "#parameters = {'n_neighbors':np.arange(1,10)}\n",
    "#clf = grid_search.GridSearchCV(clf, parameters, scoring_function)\n",
    "#clf.fit(X_train, y_train)\n",
    "#best_n_neighbors = clf.best_params_\n",
    "#print clf.best_params_\n",
    "#####################################################\n",
    "\n",
    "# KNNClassifier\n",
    "KNN_clf = KNeighborsClassifier()\n",
    "num_train=[100,200,300]\n",
    "train_for_different_size(KNN_clf, X_all, y_all, num_all, num_train)\n",
    "\n",
    "# Train for different set_size = 200\n",
    "# TODO: Run the helper function above for desired subsets of training data\n",
    "# Note: Keep the test set constant"
   ]
  },
  {
   "cell_type": "markdown",
   "metadata": {},
   "source": [
    "### Decision Tree Classifier\n",
    "\n",
    "From now on we will use Decision Tree Classifier as a learning model"
   ]
  },
  {
   "cell_type": "code",
   "execution_count": 51,
   "metadata": {
    "collapsed": false
   },
   "outputs": [
    {
     "name": "stdout",
     "output_type": "stream",
     "text": [
      "------------------------------------------\n",
      "[ 0.80555556  0.80555556  0.82598608  0.82973621  0.85929648  0.89876543\n",
      "  0.9151671   0.9346247   0.945     ]\n",
      "[ 0.82758621  0.82758621  0.8137931   0.8028169   0.72463768  0.75714286\n",
      "  0.71212121  0.75714286  0.76470588]\n",
      "------------------------------------------\n",
      "Training set size: 100\n",
      "Training DecisionTreeClassifier...\n",
      "Done!\n",
      "Training time (secs): 0.001\n",
      "Predicting labels using DecisionTreeClassifier...\n",
      "Done!\n",
      "Prediction time (secs): 0.000\n",
      "F1 score for training set: 0.916666666667\n",
      "Predicting labels using DecisionTreeClassifier...\n",
      "Done!\n",
      "Prediction time (secs): 0.000\n",
      "F1 score for test set: 0.797297297297\n",
      "------------------------------------------\n",
      "Training set size: 200\n",
      "Training DecisionTreeClassifier...\n",
      "Done!\n",
      "Training time (secs): 0.001\n",
      "Predicting labels using DecisionTreeClassifier...\n",
      "Done!\n",
      "Prediction time (secs): 0.000\n",
      "F1 score for training set: 0.914285714286\n",
      "Predicting labels using DecisionTreeClassifier...\n",
      "Done!\n",
      "Prediction time (secs): 0.000\n",
      "F1 score for test set: 0.785714285714\n",
      "------------------------------------------\n",
      "Training set size: 300\n",
      "Training DecisionTreeClassifier...\n",
      "Done!\n",
      "Training time (secs): 0.001\n",
      "Predicting labels using DecisionTreeClassifier...\n",
      "Done!\n",
      "Prediction time (secs): 0.000\n",
      "F1 score for training set: 0.891687657431\n",
      "Predicting labels using DecisionTreeClassifier...\n",
      "Done!\n",
      "Prediction time (secs): 0.000\n",
      "F1 score for test set: 0.75\n"
     ]
    }
   ],
   "source": [
    "from sklearn.tree import DecisionTreeClassifier\n",
    "\n",
    "# (plotting)Visualize the score with varying complexity\n",
    "clf = DecisionTreeClassifier(random_state=0, criterion=\"entropy\")\n",
    "max_depth = np.arange(1,10)\n",
    "[X_train, y_train, X_test, y_test] = split_data(X_all, y_all, num_all, 300)\n",
    "model_complexity(clf, X_train, y_train, X_test, y_test, complexity=max_depth)\n",
    "\n",
    "# Find the best complexity (using grid_search CV)\n",
    "############ skip grid_search this time #############\n",
    "#scoring_function = metrics.make_scorer(f1_score, pos_label='yes', greater_is_better = True)\n",
    "#parameters = {'max_depth':np.arange(1,10)}\n",
    "#clf = grid_search.GridSearchCV(clf, parameters, scoring_function)\n",
    "#clf.fit(X_train, y_train)\n",
    "#best_max_depth = clf.best_params_\n",
    "#print clf.best_params_\n",
    "#####################################################\n",
    "\n",
    "# DecisionTree Classifier\n",
    "DT_clf = DecisionTreeClassifier(max_depth=5)\n",
    "num_train=[100,200,300]\n",
    "train_for_different_size(DT_clf, X_all, y_all, num_all, num_train)\n"
   ]
  },
  {
   "cell_type": "markdown",
   "metadata": {},
   "source": [
    "### Support Vector Machine - Support Vector Classifier\n",
    "\n",
    "This time we will apply SVM.SVC model for learning."
   ]
  },
  {
   "cell_type": "code",
   "execution_count": 52,
   "metadata": {
    "collapsed": false,
    "scrolled": false
   },
   "outputs": [
    {
     "name": "stdout",
     "output_type": "stream",
     "text": [
      "------------------------------------------\n",
      "[ 0.87305122  0.91841492  0.93809524  0.94915254  0.96568627  0.96805897\n",
      "  0.97524752  0.9800995   0.98746867  0.98994975  0.99244332  0.99494949\n",
      "  0.99494949  0.99746835  0.99746835  1.          1.          1.          1.        ]\n",
      "[ 0.82894737  0.82432432  0.81944444  0.83333333  0.82517483  0.8\n",
      "  0.79136691  0.8         0.79136691  0.79136691  0.79136691  0.79136691\n",
      "  0.77697842  0.76811594  0.76811594  0.76811594  0.76811594  0.76811594\n",
      "  0.76811594]\n",
      "------------------------------------------\n",
      "Training set size: 100\n",
      "Training SVC...\n",
      "Done!\n",
      "Training time (secs): 0.001\n",
      "Predicting labels using SVC...\n",
      "Done!\n",
      "Prediction time (secs): 0.001\n",
      "F1 score for training set: 0.887417218543\n",
      "Predicting labels using SVC...\n",
      "Done!\n",
      "Prediction time (secs): 0.001\n",
      "F1 score for test set: 0.832214765101\n",
      "------------------------------------------\n",
      "Training set size: 200\n",
      "Training SVC...\n",
      "Done!\n",
      "Training time (secs): 0.003\n",
      "Predicting labels using SVC...\n",
      "Done!\n",
      "Prediction time (secs): 0.002\n",
      "F1 score for training set: 0.875420875421\n",
      "Predicting labels using SVC...\n",
      "Done!\n",
      "Prediction time (secs): 0.001\n",
      "F1 score for test set: 0.847682119205\n",
      "------------------------------------------\n",
      "Training set size: 300\n",
      "Training SVC...\n",
      "Done!\n",
      "Training time (secs): 0.006\n",
      "Predicting labels using SVC...\n",
      "Done!\n",
      "Prediction time (secs): 0.006\n",
      "F1 score for training set: 0.873051224944\n",
      "Predicting labels using SVC...\n",
      "Done!\n",
      "Prediction time (secs): 0.002\n",
      "F1 score for test set: 0.828947368421\n"
     ]
    }
   ],
   "source": [
    "from sklearn.svm import SVC\n",
    "\n",
    "# (plotting)Visualize the score with varying complexity\n",
    "clf = SVC()\n",
    "C = np.arange(1,20)\n",
    "[X_train, y_train, X_test, y_test] = split_data(X_all, y_all, num_all, 300)\n",
    "model_complexity(clf, X_train, y_train, X_test, y_test, complexity=C)\n",
    "\n",
    "# Find the best complexity (using grid_search CV)\n",
    "############ skip grid_search this time #############\n",
    "#scoring_function = metrics.make_scorer(f1_score, pos_label='yes', greater_is_better = True)\n",
    "#param_grid = [{'C': list(np.arange(1,20)), 'kernel': ['linear']},\n",
    "#              {'C': list(np.arange(1,20)), 'gamma': [0.001, 0.0001], 'kernel': ['rbf']},\n",
    "#             ]\n",
    "#clf = grid_search.GridSearchCV(clf, param_grid, scoring_function)\n",
    "#clf.fit(X_train, y_train)\n",
    "#best_param_grid = clf.best_params_\n",
    "#print clf.best_params_\n",
    "#####################################################\n",
    "\n",
    "# SupportVector Classifier\n",
    "SV_clf = SVC()\n",
    "num_train=[100,200,300]\n",
    "train_for_different_size(SV_clf, X_all, y_all, num_all, num_train)"
   ]
  },
  {
   "cell_type": "markdown",
   "metadata": {},
   "source": [
    "## 5. Choosing the Best Model\n",
    "\n",
    "- Based on the experiments you performed earlier, in 1-2 paragraphs explain to the board of supervisors what single model you chose as the best model. Which model is generally the most appropriate based on the available data, limited resources, cost, and performance?\n",
    "- In 1-2 paragraphs explain to the board of supervisors in layman's terms how the final model chosen is supposed to work (for example if you chose a Decision Tree or Support Vector Machine, how does it make a prediction).\n",
    "- Fine-tune the model. Use Gridsearch with at least one important parameter tuned and with at least 3 settings. Use the entire training set for this.\n",
    "- What is the model's final F<sub>1</sub> score?"
   ]
  },
  {
   "cell_type": "markdown",
   "metadata": {},
   "source": [
    "I used 3 train models which are KNN, DecisionTree, SVM-SVC.\n",
    "These 3 models' performances are very similar(F1 score are in 7.8 to 8.1)\n",
    "\n",
    "Training time and Prediction time cost also very low (all below 0.007).\n",
    "Finding best_params on SVC model takes long time. However once it find best parameter, then training and predicting time of model is very fast.\n",
    "\n",
    "So I choose a SVM-SVC model (which has the best final F1 score). Here are some pros and cons on SVC model\n",
    "- It is very effective when the features' dimension is very high.\n",
    "- Normally it works well in small data sets. (but our training set is small and high dimension(35), so it's useful)\n",
    "\n",
    "I explained this algorithm in detail at my pdf file. (please refer it)\n"
   ]
  },
  {
   "cell_type": "code",
   "execution_count": 53,
   "metadata": {
    "collapsed": false
   },
   "outputs": [
    {
     "name": "stdout",
     "output_type": "stream",
     "text": [
      "{'kernel': 'rbf', 'C': 11, 'gamma': 0.001}\n",
      "------------------------------------------\n",
      "Training set size: 300\n",
      "Training SVC...\n",
      "Done!\n",
      "Training time (secs): 0.005\n",
      "Predicting labels using SVC...\n",
      "Done!\n",
      "Prediction time (secs): 0.004\n",
      "F1 score for training set: 0.812095032397\n",
      "Predicting labels using SVC...\n",
      "Done!\n",
      "Prediction time (secs): 0.001\n",
      "F1 score for test set: 0.860927152318\n"
     ]
    }
   ],
   "source": [
    "# TODO: Fine-tune your model and report the best F1 score\n",
    "# Our Final model is SVC classifier!\n",
    "best_clf = SVC()\n",
    "\n",
    "# Find the best complexity (using grid_search CV)\n",
    "scoring_function = metrics.make_scorer(f1_score, pos_label='yes', greater_is_better = True)\n",
    "param_grid = [{'C': list(np.arange(1,20)), 'kernel': ['linear', 'sigmoid']},\n",
    "              {'C': list(np.arange(1,20)), 'gamma': [0.5, 0.3, 0.1, 0.005, 0.001, 0.0001], 'kernel': ['rbf']}\n",
    "             ]\n",
    "best_clf = grid_search.GridSearchCV(clf, param_grid, scoring_function)\n",
    "best_clf.fit(X_train, y_train)\n",
    "best_param_grid = best_clf.best_params_\n",
    "print best_clf.best_params_\n",
    "\n",
    "best_clf = SVC(kernel=best_param_grid['kernel'], C=best_param_grid['C'], gamma=best_param_grid['gamma'])\n",
    "train_predict(best_clf, X_train, y_train, X_test, y_test)"
   ]
  },
  {
   "cell_type": "markdown",
   "metadata": {},
   "source": [
    "#### As you can see above, the best_clf (which complexity is tuned) shows higher performance!"
   ]
  },
  {
   "cell_type": "code",
   "execution_count": null,
   "metadata": {
    "collapsed": true
   },
   "outputs": [],
   "source": []
  }
 ],
 "metadata": {
  "kernelspec": {
   "display_name": "Python 2",
   "language": "python",
   "name": "python2"
  },
  "language_info": {
   "codemirror_mode": {
    "name": "ipython",
    "version": 2
   },
   "file_extension": ".py",
   "mimetype": "text/x-python",
   "name": "python",
   "nbconvert_exporter": "python",
   "pygments_lexer": "ipython2",
   "version": "2.7.11"
  }
 },
 "nbformat": 4,
 "nbformat_minor": 0
}
